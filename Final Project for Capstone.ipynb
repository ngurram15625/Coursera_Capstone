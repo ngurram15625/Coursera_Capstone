{
    "cells": [
        {
            "cell_type": "markdown",
            "metadata": {
                "collapsed": true
            },
            "source": "# Determining Ideal Locations for New Restaurants in Detroit Metropolitan Area\n## Author: Neil Gurram"
        },
        {
            "cell_type": "code",
            "execution_count": 64,
            "metadata": {
                "tags": [
                    "remove-cell"
                ]
            },
            "outputs": [
                {
                    "name": "stdout",
                    "output_type": "stream",
                    "text": "Requirement already satisfied: requests in /opt/conda/envs/Python-3.7-main/lib/python3.7/site-packages (2.24.0)\nRequirement already satisfied: certifi>=2017.4.17 in /opt/conda/envs/Python-3.7-main/lib/python3.7/site-packages (from requests) (2020.12.5)\nRequirement already satisfied: urllib3!=1.25.0,!=1.25.1,<1.26,>=1.21.1 in /opt/conda/envs/Python-3.7-main/lib/python3.7/site-packages (from requests) (1.25.9)\nRequirement already satisfied: chardet<4,>=3.0.2 in /opt/conda/envs/Python-3.7-main/lib/python3.7/site-packages (from requests) (3.0.4)\nRequirement already satisfied: idna<3,>=2.5 in /opt/conda/envs/Python-3.7-main/lib/python3.7/site-packages (from requests) (2.9)\nRequirement already satisfied: beautifulsoup4 in /opt/conda/envs/Python-3.7-main/lib/python3.7/site-packages (4.9.1)\nRequirement already satisfied: soupsieve>1.2 in /opt/conda/envs/Python-3.7-main/lib/python3.7/site-packages (from beautifulsoup4) (2.0.1)\nRequirement already up-to-date: notebook-as-pdf in /opt/conda/envs/Python-3.7-main/lib/python3.7/site-packages (0.4.0)\nRequirement already satisfied, skipping upgrade: nbconvert in /opt/conda/envs/Python-3.7-main/lib/python3.7/site-packages (from notebook-as-pdf) (5.6.1)\nRequirement already satisfied, skipping upgrade: pyppeteer in /opt/conda/envs/Python-3.7-main/lib/python3.7/site-packages (from notebook-as-pdf) (0.2.5)\nRequirement already satisfied, skipping upgrade: PyPDF2 in /opt/conda/envs/Python-3.7-main/lib/python3.7/site-packages (from notebook-as-pdf) (1.26.0)\nRequirement already satisfied, skipping upgrade: entrypoints>=0.2.2 in /opt/conda/envs/Python-3.7-main/lib/python3.7/site-packages (from nbconvert->notebook-as-pdf) (0.3)\nRequirement already satisfied, skipping upgrade: testpath in /opt/conda/envs/Python-3.7-main/lib/python3.7/site-packages (from nbconvert->notebook-as-pdf) (0.4.4)\nRequirement already satisfied, skipping upgrade: nbformat>=4.4 in /opt/conda/envs/Python-3.7-main/lib/python3.7/site-packages (from nbconvert->notebook-as-pdf) (5.0.7)\nRequirement already satisfied, skipping upgrade: pandocfilters>=1.4.1 in /opt/conda/envs/Python-3.7-main/lib/python3.7/site-packages (from nbconvert->notebook-as-pdf) (1.4.2)\nRequirement already satisfied, skipping upgrade: defusedxml in /opt/conda/envs/Python-3.7-main/lib/python3.7/site-packages (from nbconvert->notebook-as-pdf) (0.6.0)\nRequirement already satisfied, skipping upgrade: mistune<2,>=0.8.1 in /opt/conda/envs/Python-3.7-main/lib/python3.7/site-packages (from nbconvert->notebook-as-pdf) (0.8.4)\nRequirement already satisfied, skipping upgrade: jinja2>=2.4 in /opt/conda/envs/Python-3.7-main/lib/python3.7/site-packages (from nbconvert->notebook-as-pdf) (2.11.2)\nRequirement already satisfied, skipping upgrade: traitlets>=4.2 in /opt/conda/envs/Python-3.7-main/lib/python3.7/site-packages (from nbconvert->notebook-as-pdf) (4.3.3)\nRequirement already satisfied, skipping upgrade: bleach in /opt/conda/envs/Python-3.7-main/lib/python3.7/site-packages (from nbconvert->notebook-as-pdf) (3.1.5)\nRequirement already satisfied, skipping upgrade: jupyter-core in /opt/conda/envs/Python-3.7-main/lib/python3.7/site-packages (from nbconvert->notebook-as-pdf) (4.6.3)\nRequirement already satisfied, skipping upgrade: pygments in /opt/conda/envs/Python-3.7-main/lib/python3.7/site-packages (from nbconvert->notebook-as-pdf) (2.6.1)\nRequirement already satisfied, skipping upgrade: pyee<9.0.0,>=8.1.0 in /opt/conda/envs/Python-3.7-main/lib/python3.7/site-packages (from pyppeteer->notebook-as-pdf) (8.1.0)\nRequirement already satisfied, skipping upgrade: tqdm<5.0.0,>=4.42.1 in /opt/conda/envs/Python-3.7-main/lib/python3.7/site-packages (from pyppeteer->notebook-as-pdf) (4.47.0)\nRequirement already satisfied, skipping upgrade: appdirs<2.0.0,>=1.4.3 in /opt/conda/envs/Python-3.7-main/lib/python3.7/site-packages (from pyppeteer->notebook-as-pdf) (1.4.4)\nRequirement already satisfied, skipping upgrade: websockets<9.0,>=8.1 in /opt/conda/envs/Python-3.7-main/lib/python3.7/site-packages (from pyppeteer->notebook-as-pdf) (8.1)\nRequirement already satisfied, skipping upgrade: urllib3<2.0.0,>=1.25.8 in /opt/conda/envs/Python-3.7-main/lib/python3.7/site-packages (from pyppeteer->notebook-as-pdf) (1.25.9)\nRequirement already satisfied, skipping upgrade: importlib-metadata<3.0.0,>=2.1.1; python_version < \"3.8\" in /opt/conda/envs/Python-3.7-main/lib/python3.7/site-packages (from pyppeteer->notebook-as-pdf) (2.1.1)\nRequirement already satisfied, skipping upgrade: jsonschema!=2.5.0,>=2.4 in /opt/conda/envs/Python-3.7-main/lib/python3.7/site-packages (from nbformat>=4.4->nbconvert->notebook-as-pdf) (3.2.0)\nRequirement already satisfied, skipping upgrade: ipython-genutils in /opt/conda/envs/Python-3.7-main/lib/python3.7/site-packages (from nbformat>=4.4->nbconvert->notebook-as-pdf) (0.2.0)\nRequirement already satisfied, skipping upgrade: MarkupSafe>=0.23 in /opt/conda/envs/Python-3.7-main/lib/python3.7/site-packages (from jinja2>=2.4->nbconvert->notebook-as-pdf) (1.1.1)\nRequirement already satisfied, skipping upgrade: decorator in /opt/conda/envs/Python-3.7-main/lib/python3.7/site-packages (from traitlets>=4.2->nbconvert->notebook-as-pdf) (4.4.2)\nRequirement already satisfied, skipping upgrade: six in /opt/conda/envs/Python-3.7-main/lib/python3.7/site-packages (from traitlets>=4.2->nbconvert->notebook-as-pdf) (1.15.0)\nRequirement already satisfied, skipping upgrade: packaging in /opt/conda/envs/Python-3.7-main/lib/python3.7/site-packages (from bleach->nbconvert->notebook-as-pdf) (20.4)\nRequirement already satisfied, skipping upgrade: webencodings in /opt/conda/envs/Python-3.7-main/lib/python3.7/site-packages (from bleach->nbconvert->notebook-as-pdf) (0.5.1)\nRequirement already satisfied, skipping upgrade: zipp>=0.5 in /opt/conda/envs/Python-3.7-main/lib/python3.7/site-packages (from importlib-metadata<3.0.0,>=2.1.1; python_version < \"3.8\"->pyppeteer->notebook-as-pdf) (3.1.0)\nRequirement already satisfied, skipping upgrade: pyrsistent>=0.14.0 in /opt/conda/envs/Python-3.7-main/lib/python3.7/site-packages (from jsonschema!=2.5.0,>=2.4->nbformat>=4.4->nbconvert->notebook-as-pdf) (0.16.0)\nRequirement already satisfied, skipping upgrade: attrs>=17.4.0 in /opt/conda/envs/Python-3.7-main/lib/python3.7/site-packages (from jsonschema!=2.5.0,>=2.4->nbformat>=4.4->nbconvert->notebook-as-pdf) (19.3.0)\nRequirement already satisfied, skipping upgrade: setuptools in /opt/conda/envs/Python-3.7-main/lib/python3.7/site-packages (from jsonschema!=2.5.0,>=2.4->nbformat>=4.4->nbconvert->notebook-as-pdf) (47.3.1.post20200622)\nRequirement already satisfied, skipping upgrade: pyparsing>=2.0.2 in /opt/conda/envs/Python-3.7-main/lib/python3.7/site-packages (from packaging->bleach->nbconvert->notebook-as-pdf) (2.4.7)\nRequirement already satisfied: pyppeteer in /opt/conda/envs/Python-3.7-main/lib/python3.7/site-packages (0.2.5)\nRequirement already satisfied: appdirs<2.0.0,>=1.4.3 in /opt/conda/envs/Python-3.7-main/lib/python3.7/site-packages (from pyppeteer) (1.4.4)\nRequirement already satisfied: websockets<9.0,>=8.1 in /opt/conda/envs/Python-3.7-main/lib/python3.7/site-packages (from pyppeteer) (8.1)\nRequirement already satisfied: tqdm<5.0.0,>=4.42.1 in /opt/conda/envs/Python-3.7-main/lib/python3.7/site-packages (from pyppeteer) (4.47.0)\nRequirement already satisfied: pyee<9.0.0,>=8.1.0 in /opt/conda/envs/Python-3.7-main/lib/python3.7/site-packages (from pyppeteer) (8.1.0)\nRequirement already satisfied: importlib-metadata<3.0.0,>=2.1.1; python_version < \"3.8\" in /opt/conda/envs/Python-3.7-main/lib/python3.7/site-packages (from pyppeteer) (2.1.1)\nRequirement already satisfied: urllib3<2.0.0,>=1.25.8 in /opt/conda/envs/Python-3.7-main/lib/python3.7/site-packages (from pyppeteer) (1.25.9)\nRequirement already satisfied: zipp>=0.5 in /opt/conda/envs/Python-3.7-main/lib/python3.7/site-packages (from importlib-metadata<3.0.0,>=2.1.1; python_version < \"3.8\"->pyppeteer) (3.1.0)\n"
                }
            ],
            "source": "!pip install requests\n!pip install beautifulsoup4\n!pip install -U notebook-as-pdf\n!pip install pyppeteer"
        },
        {
            "cell_type": "code",
            "execution_count": 51,
            "metadata": {
                "tags": [
                    "remove-cell"
                ]
            },
            "outputs": [],
            "source": "import requests \nfrom bs4 import BeautifulSoup \nfrom geopy.geocoders import Nominatim\nimport numpy as np\nimport pandas as pd"
        },
        {
            "cell_type": "markdown",
            "metadata": {},
            "source": "## Introduction"
        },
        {
            "cell_type": "markdown",
            "metadata": {},
            "source": "The city of Detroit, Michigan is seemingly trying to get back on the upswing and improve as a city. With this realization, restaurant companies, especially those which wouldn't be considered common such as cuisines from foreign countries, could very well be looking to find a place in Detroit Metropolitan Area (DMA) to take advantage of the high population and bolster their revenues. An increase in the number of restaurants in the DMA could not only allow for variety of restaurants that Detroiters can go to but also could help with increasing employment to provide more jobs in the DMA for those who may be unemployed. With this growth in the restaurant industry, this could supplement the growth of other industries in the DMA, such as tourism, as those go hand in hand."
        },
        {
            "cell_type": "markdown",
            "metadata": {},
            "source": "## Business Problem"
        },
        {
            "cell_type": "markdown",
            "metadata": {},
            "source": "The goal of this project is to find locations in DMA that would be suitable to start a restaurant in to help not only bolster the restaurant industry and improve Detroit, but also to provide restaurants the chances to improve their revenue. \n\nThe target audience for this project will be not only people who are interested in opening up restaurants in DMA but also those who would be interested in opening up other types of businesses because similar analyses could be used for other businesses."
        },
        {
            "cell_type": "markdown",
            "metadata": {},
            "source": "## Data"
        },
        {
            "cell_type": "markdown",
            "metadata": {},
            "source": "The relevant pieces of data needed for our project are 1) list of cities and towns in DMA, 2) longitudinal and latitudinal data for cities and towns in DMA, and 3) data for venues associated with DMA."
        },
        {
            "cell_type": "markdown",
            "metadata": {},
            "source": "#### Cities and Towns in DMA"
        },
        {
            "cell_type": "markdown",
            "metadata": {},
            "source": "For the purpose of this project, I will limit the DMA to cities in Macomb, Oakland, and Wayne Counties. I had to web scrape data from websites pertaining to cities in [Macomb](https://geographic.org/streetview/usa/mi/macomb/index.html), [Oakland](https://geographic.org/streetview/usa/mi/oakland/index.html), and [Wayne](https://geographic.org/streetview/usa/mi/wayne/index.html) Counties. The information on the three websites were consistent in that all were under an unordered list (ul) tag, so I could create code that would extract the cities from each of the three counties."
        },
        {
            "cell_type": "code",
            "execution_count": 52,
            "metadata": {
                "tags": [
                    "remove-cell"
                ]
            },
            "outputs": [],
            "source": "def get_cities(county_name):##This method assumes the county_name is in Michigan, and that the list of cities is part of an unordered list tag. \n    cities = []\n    url = \"https://geographic.org/streetview/usa/mi/\"+county_name.lower()+\"/index.html\"\n    #open with GET method \n    resp=requests.get(url) \n      \n    #http_respone 200 means OK status \n    if resp.status_code==200: \n      \n        # we need a parser,Python built-in HTML parser is enough . \n        soup=BeautifulSoup(resp.text,'html.parser')     \n  \n        # l is the list which contains all the cities\n        l=soup.find(\"ul\") \n      \n        #Find all the elements of a, i.e anchor. This happens to correspond to the cities listed.\n        for i in l.findAll(\"a\"): \n            cities.append(i.text) \n    return cities\n\ndef get_all_cities(county_list):##This method returns a list of lists of city and county\n    cities = []\n    for county in county_list:\n        for city in get_cities(county):\n            cities.append((city,county))\n    return cities"
        },
        {
            "cell_type": "markdown",
            "metadata": {},
            "source": "#### Longitudes and Latitudes for Cities and Towns in DMA"
        },
        {
            "cell_type": "markdown",
            "metadata": {},
            "source": "I will be using the geopy module to get the longitudes and latitudes for cities and towns in DMA. I will then display the results into a Dataframe containing city, county, latitude, and longitude.\n\nUpon initial inspection of the data frame, there seemed to be some errors with the latitudes and longitudes computed, so we needed to focus on the correct latitudes and longitudes. This can be determined by first ensuring that the latitude is at least 41 and at most 43 and longitude is at least -84 and at most -82. Then, from a manual check, we can see that all the latitudes and longitudes seem proper. Alternatively, we could have manually replaced the coordinates that were wrong with the correct ones, but decided to go with the former method simply to ensure all data was coming from the same source.\n\nAfter filtering, we get a dataframe displayed below."
        },
        {
            "cell_type": "code",
            "execution_count": 53,
            "metadata": {
                "tags": [
                    "remove-cell"
                ]
            },
            "outputs": [],
            "source": "dma_tuples = get_all_cities([\"Macomb\",\"Oakland\",\"Wayne\"])\n\ndef create_location_dataframe(city_tuples):##Assumes we have a city,county tuple pair from Michigan\n    location_dataframe = []\n    geolocator = Nominatim(user_agent=\"detroit_explorer\")\n    for city,county in city_tuples:\n        city_augmented = city+\", MI\"\n        coordinates = geolocator.geocode(city_augmented)\n        latitude = coordinates.latitude\n        longitude = coordinates.longitude\n        location_dataframe.append([city.title(),county.title(),latitude,longitude])\n    location_dataframe = pd.DataFrame(location_dataframe,columns=[\"City\",\"County\",\"City Latitude\",\"City Longitude\"])\n    return location_dataframe\ndma_dataframe = create_location_dataframe(dma_tuples)"
        },
        {
            "cell_type": "code",
            "execution_count": 54,
            "metadata": {
                "tags": [
                    "remove-cell"
                ]
            },
            "outputs": [],
            "source": "dma_dataframe = dma_dataframe[(dma_dataframe[\"City Latitude\"]>=41) & (dma_dataframe[\"City Latitude\"] <= 43) \n                              & (dma_dataframe[\"City Longitude\"]>=-84) & (dma_dataframe[\"City Longitude\"]<=-82)]"
        },
        {
            "cell_type": "code",
            "execution_count": 55,
            "metadata": {
                "tags": [
                    "remove-input"
                ]
            },
            "outputs": [
                {
                    "data": {
                        "text/html": "<div>\n<style scoped>\n    .dataframe tbody tr th:only-of-type {\n        vertical-align: middle;\n    }\n\n    .dataframe tbody tr th {\n        vertical-align: top;\n    }\n\n    .dataframe thead th {\n        text-align: right;\n    }\n</style>\n<table border=\"1\" class=\"dataframe\">\n  <thead>\n    <tr style=\"text-align: right;\">\n      <th></th>\n      <th>City</th>\n      <th>County</th>\n      <th>City Latitude</th>\n      <th>City Longitude</th>\n    </tr>\n  </thead>\n  <tbody>\n    <tr>\n      <th>0</th>\n      <td>Armada</td>\n      <td>Macomb</td>\n      <td>42.844196</td>\n      <td>-82.884372</td>\n    </tr>\n    <tr>\n      <th>1</th>\n      <td>Center Line</td>\n      <td>Macomb</td>\n      <td>42.485036</td>\n      <td>-83.027700</td>\n    </tr>\n    <tr>\n      <th>2</th>\n      <td>Clinton Township</td>\n      <td>Macomb</td>\n      <td>42.584852</td>\n      <td>-82.934824</td>\n    </tr>\n    <tr>\n      <th>3</th>\n      <td>Eastpointe</td>\n      <td>Macomb</td>\n      <td>42.468370</td>\n      <td>-82.955475</td>\n    </tr>\n    <tr>\n      <th>4</th>\n      <td>Fraser</td>\n      <td>Macomb</td>\n      <td>42.539202</td>\n      <td>-82.949365</td>\n    </tr>\n    <tr>\n      <th>5</th>\n      <td>Harrison Township</td>\n      <td>Macomb</td>\n      <td>42.587337</td>\n      <td>-82.810484</td>\n    </tr>\n    <tr>\n      <th>6</th>\n      <td>Macomb</td>\n      <td>Macomb</td>\n      <td>42.674119</td>\n      <td>-82.902901</td>\n    </tr>\n    <tr>\n      <th>7</th>\n      <td>Mount Clemens</td>\n      <td>Macomb</td>\n      <td>42.597256</td>\n      <td>-82.877975</td>\n    </tr>\n    <tr>\n      <th>8</th>\n      <td>New Baltimore</td>\n      <td>Macomb</td>\n      <td>42.681144</td>\n      <td>-82.736862</td>\n    </tr>\n    <tr>\n      <th>12</th>\n      <td>Romeo</td>\n      <td>Macomb</td>\n      <td>42.802808</td>\n      <td>-83.012987</td>\n    </tr>\n    <tr>\n      <th>14</th>\n      <td>Saint Clair Shores</td>\n      <td>Macomb</td>\n      <td>42.496965</td>\n      <td>-82.889096</td>\n    </tr>\n    <tr>\n      <th>15</th>\n      <td>Sterling Heights</td>\n      <td>Macomb</td>\n      <td>42.580312</td>\n      <td>-83.030203</td>\n    </tr>\n    <tr>\n      <th>19</th>\n      <td>Auburn Hills</td>\n      <td>Oakland</td>\n      <td>42.687532</td>\n      <td>-83.234103</td>\n    </tr>\n    <tr>\n      <th>22</th>\n      <td>Bloomfield Hills</td>\n      <td>Oakland</td>\n      <td>42.583645</td>\n      <td>-83.245488</td>\n    </tr>\n    <tr>\n      <th>24</th>\n      <td>Clawson</td>\n      <td>Oakland</td>\n      <td>42.533368</td>\n      <td>-83.146317</td>\n    </tr>\n    <tr>\n      <th>25</th>\n      <td>Commerce Township</td>\n      <td>Oakland</td>\n      <td>42.569459</td>\n      <td>-83.499683</td>\n    </tr>\n    <tr>\n      <th>26</th>\n      <td>Davisburg</td>\n      <td>Oakland</td>\n      <td>42.752251</td>\n      <td>-83.541333</td>\n    </tr>\n    <tr>\n      <th>28</th>\n      <td>Ferndale</td>\n      <td>Oakland</td>\n      <td>42.460592</td>\n      <td>-83.134648</td>\n    </tr>\n    <tr>\n      <th>30</th>\n      <td>Hazel Park</td>\n      <td>Oakland</td>\n      <td>42.462014</td>\n      <td>-83.103569</td>\n    </tr>\n    <tr>\n      <th>32</th>\n      <td>Holly</td>\n      <td>Oakland</td>\n      <td>42.791973</td>\n      <td>-83.627725</td>\n    </tr>\n    <tr>\n      <th>33</th>\n      <td>Huntington Woods</td>\n      <td>Oakland</td>\n      <td>42.480591</td>\n      <td>-83.166871</td>\n    </tr>\n    <tr>\n      <th>34</th>\n      <td>Keego Harbor</td>\n      <td>Oakland</td>\n      <td>42.608088</td>\n      <td>-83.343825</td>\n    </tr>\n    <tr>\n      <th>35</th>\n      <td>Lake Orion</td>\n      <td>Oakland</td>\n      <td>42.784475</td>\n      <td>-83.239661</td>\n    </tr>\n    <tr>\n      <th>38</th>\n      <td>Madison Heights</td>\n      <td>Oakland</td>\n      <td>42.485869</td>\n      <td>-83.105203</td>\n    </tr>\n    <tr>\n      <th>40</th>\n      <td>New Hudson</td>\n      <td>Oakland</td>\n      <td>42.511726</td>\n      <td>-83.615665</td>\n    </tr>\n    <tr>\n      <th>41</th>\n      <td>Novi</td>\n      <td>Oakland</td>\n      <td>42.480590</td>\n      <td>-83.475491</td>\n    </tr>\n    <tr>\n      <th>46</th>\n      <td>Pleasant Ridge</td>\n      <td>Oakland</td>\n      <td>42.471147</td>\n      <td>-83.142148</td>\n    </tr>\n    <tr>\n      <th>47</th>\n      <td>Pontiac</td>\n      <td>Oakland</td>\n      <td>42.638922</td>\n      <td>-83.291047</td>\n    </tr>\n    <tr>\n      <th>49</th>\n      <td>Royal Oak</td>\n      <td>Oakland</td>\n      <td>42.489480</td>\n      <td>-83.144649</td>\n    </tr>\n    <tr>\n      <th>50</th>\n      <td>South Lyon</td>\n      <td>Oakland</td>\n      <td>42.451377</td>\n      <td>-83.659179</td>\n    </tr>\n    <tr>\n      <th>51</th>\n      <td>Southfield</td>\n      <td>Oakland</td>\n      <td>42.473369</td>\n      <td>-83.221873</td>\n    </tr>\n    <tr>\n      <th>52</th>\n      <td>Troy</td>\n      <td>Oakland</td>\n      <td>42.605589</td>\n      <td>-83.149930</td>\n    </tr>\n    <tr>\n      <th>53</th>\n      <td>Union Lake</td>\n      <td>Oakland</td>\n      <td>42.614754</td>\n      <td>-83.446883</td>\n    </tr>\n    <tr>\n      <th>54</th>\n      <td>Walled Lake</td>\n      <td>Oakland</td>\n      <td>42.537811</td>\n      <td>-83.481048</td>\n    </tr>\n    <tr>\n      <th>58</th>\n      <td>Wixom</td>\n      <td>Oakland</td>\n      <td>42.524773</td>\n      <td>-83.536334</td>\n    </tr>\n    <tr>\n      <th>59</th>\n      <td>Allen Park</td>\n      <td>Wayne</td>\n      <td>42.259507</td>\n      <td>-83.210767</td>\n    </tr>\n    <tr>\n      <th>62</th>\n      <td>Dearborn</td>\n      <td>Wayne</td>\n      <td>42.322260</td>\n      <td>-83.176315</td>\n    </tr>\n    <tr>\n      <th>63</th>\n      <td>Dearborn Heights</td>\n      <td>Wayne</td>\n      <td>42.336982</td>\n      <td>-83.273263</td>\n    </tr>\n    <tr>\n      <th>64</th>\n      <td>Detroit</td>\n      <td>Wayne</td>\n      <td>42.331551</td>\n      <td>-83.046640</td>\n    </tr>\n    <tr>\n      <th>65</th>\n      <td>Ecorse</td>\n      <td>Wayne</td>\n      <td>42.244483</td>\n      <td>-83.145757</td>\n    </tr>\n    <tr>\n      <th>66</th>\n      <td>Flat Rock</td>\n      <td>Wayne</td>\n      <td>42.096431</td>\n      <td>-83.291874</td>\n    </tr>\n    <tr>\n      <th>68</th>\n      <td>Grosse Ile</td>\n      <td>Wayne</td>\n      <td>42.138175</td>\n      <td>-83.154123</td>\n    </tr>\n    <tr>\n      <th>69</th>\n      <td>Grosse Pointe</td>\n      <td>Wayne</td>\n      <td>42.386148</td>\n      <td>-82.911859</td>\n    </tr>\n    <tr>\n      <th>70</th>\n      <td>Hamtramck</td>\n      <td>Wayne</td>\n      <td>42.392815</td>\n      <td>-83.049644</td>\n    </tr>\n    <tr>\n      <th>71</th>\n      <td>Harper Woods</td>\n      <td>Wayne</td>\n      <td>42.433337</td>\n      <td>-82.923885</td>\n    </tr>\n    <tr>\n      <th>73</th>\n      <td>Inkster</td>\n      <td>Wayne</td>\n      <td>42.294204</td>\n      <td>-83.309930</td>\n    </tr>\n    <tr>\n      <th>74</th>\n      <td>Lincoln Park</td>\n      <td>Wayne</td>\n      <td>42.250594</td>\n      <td>-83.178536</td>\n    </tr>\n    <tr>\n      <th>75</th>\n      <td>Livonia</td>\n      <td>Wayne</td>\n      <td>42.368370</td>\n      <td>-83.352710</td>\n    </tr>\n    <tr>\n      <th>76</th>\n      <td>Melvindale</td>\n      <td>Wayne</td>\n      <td>42.282538</td>\n      <td>-83.175203</td>\n    </tr>\n    <tr>\n      <th>78</th>\n      <td>Northville</td>\n      <td>Wayne</td>\n      <td>42.431081</td>\n      <td>-83.483226</td>\n    </tr>\n    <tr>\n      <th>80</th>\n      <td>Redford</td>\n      <td>Wayne</td>\n      <td>42.383370</td>\n      <td>-83.296597</td>\n    </tr>\n    <tr>\n      <th>81</th>\n      <td>River Rouge</td>\n      <td>Wayne</td>\n      <td>42.272926</td>\n      <td>-83.135289</td>\n    </tr>\n    <tr>\n      <th>83</th>\n      <td>Rockwood</td>\n      <td>Wayne</td>\n      <td>42.070876</td>\n      <td>-83.246596</td>\n    </tr>\n    <tr>\n      <th>84</th>\n      <td>Romulus</td>\n      <td>Wayne</td>\n      <td>42.222261</td>\n      <td>-83.396599</td>\n    </tr>\n    <tr>\n      <th>85</th>\n      <td>Southgate</td>\n      <td>Wayne</td>\n      <td>42.203710</td>\n      <td>-83.206756</td>\n    </tr>\n    <tr>\n      <th>88</th>\n      <td>Wayne</td>\n      <td>Wayne</td>\n      <td>42.268241</td>\n      <td>-83.284417</td>\n    </tr>\n    <tr>\n      <th>89</th>\n      <td>Westland</td>\n      <td>Wayne</td>\n      <td>42.323806</td>\n      <td>-83.400532</td>\n    </tr>\n    <tr>\n      <th>90</th>\n      <td>Wyandotte</td>\n      <td>Wayne</td>\n      <td>42.200662</td>\n      <td>-83.151016</td>\n    </tr>\n  </tbody>\n</table>\n</div>",
                        "text/plain": "                  City   County  City Latitude  City Longitude\n0               Armada   Macomb      42.844196      -82.884372\n1          Center Line   Macomb      42.485036      -83.027700\n2     Clinton Township   Macomb      42.584852      -82.934824\n3           Eastpointe   Macomb      42.468370      -82.955475\n4               Fraser   Macomb      42.539202      -82.949365\n5    Harrison Township   Macomb      42.587337      -82.810484\n6               Macomb   Macomb      42.674119      -82.902901\n7        Mount Clemens   Macomb      42.597256      -82.877975\n8        New Baltimore   Macomb      42.681144      -82.736862\n12               Romeo   Macomb      42.802808      -83.012987\n14  Saint Clair Shores   Macomb      42.496965      -82.889096\n15    Sterling Heights   Macomb      42.580312      -83.030203\n19        Auburn Hills  Oakland      42.687532      -83.234103\n22    Bloomfield Hills  Oakland      42.583645      -83.245488\n24             Clawson  Oakland      42.533368      -83.146317\n25   Commerce Township  Oakland      42.569459      -83.499683\n26           Davisburg  Oakland      42.752251      -83.541333\n28            Ferndale  Oakland      42.460592      -83.134648\n30          Hazel Park  Oakland      42.462014      -83.103569\n32               Holly  Oakland      42.791973      -83.627725\n33    Huntington Woods  Oakland      42.480591      -83.166871\n34        Keego Harbor  Oakland      42.608088      -83.343825\n35          Lake Orion  Oakland      42.784475      -83.239661\n38     Madison Heights  Oakland      42.485869      -83.105203\n40          New Hudson  Oakland      42.511726      -83.615665\n41                Novi  Oakland      42.480590      -83.475491\n46      Pleasant Ridge  Oakland      42.471147      -83.142148\n47             Pontiac  Oakland      42.638922      -83.291047\n49           Royal Oak  Oakland      42.489480      -83.144649\n50          South Lyon  Oakland      42.451377      -83.659179\n51          Southfield  Oakland      42.473369      -83.221873\n52                Troy  Oakland      42.605589      -83.149930\n53          Union Lake  Oakland      42.614754      -83.446883\n54         Walled Lake  Oakland      42.537811      -83.481048\n58               Wixom  Oakland      42.524773      -83.536334\n59          Allen Park    Wayne      42.259507      -83.210767\n62            Dearborn    Wayne      42.322260      -83.176315\n63    Dearborn Heights    Wayne      42.336982      -83.273263\n64             Detroit    Wayne      42.331551      -83.046640\n65              Ecorse    Wayne      42.244483      -83.145757\n66           Flat Rock    Wayne      42.096431      -83.291874\n68          Grosse Ile    Wayne      42.138175      -83.154123\n69       Grosse Pointe    Wayne      42.386148      -82.911859\n70           Hamtramck    Wayne      42.392815      -83.049644\n71        Harper Woods    Wayne      42.433337      -82.923885\n73             Inkster    Wayne      42.294204      -83.309930\n74        Lincoln Park    Wayne      42.250594      -83.178536\n75             Livonia    Wayne      42.368370      -83.352710\n76          Melvindale    Wayne      42.282538      -83.175203\n78          Northville    Wayne      42.431081      -83.483226\n80             Redford    Wayne      42.383370      -83.296597\n81         River Rouge    Wayne      42.272926      -83.135289\n83            Rockwood    Wayne      42.070876      -83.246596\n84             Romulus    Wayne      42.222261      -83.396599\n85           Southgate    Wayne      42.203710      -83.206756\n88               Wayne    Wayne      42.268241      -83.284417\n89            Westland    Wayne      42.323806      -83.400532\n90           Wyandotte    Wayne      42.200662      -83.151016"
                    },
                    "execution_count": 55,
                    "metadata": {},
                    "output_type": "execute_result"
                }
            ],
            "source": "dma_dataframe"
        },
        {
            "cell_type": "markdown",
            "metadata": {},
            "source": "#### Venues in DMA"
        },
        {
            "cell_type": "markdown",
            "metadata": {},
            "source": "After getting latitude and longitude information for cities in DMA, I will be using the FourSquare API to get relevant venue information for the aforementioned cities. I will append the venue data, which will comprise of the Venue Name, Venue Latitude, Venue Longitude, and Venue Category to the above dataframe associated with city information. To get venues tied to each city, we will find out all venues within one mile of a given latitude,longitude pair. We will limit for each city 200 venues displayed."
        },
        {
            "cell_type": "code",
            "execution_count": 56,
            "metadata": {
                "tags": [
                    "remove-cell"
                ]
            },
            "outputs": [],
            "source": "# The code was removed by Watson Studio for sharing."
        },
        {
            "cell_type": "code",
            "execution_count": 57,
            "metadata": {
                "tags": [
                    "remove-cell"
                ]
            },
            "outputs": [],
            "source": "def getNearbyVenues(cities, counties, city_latitudes, city_longitudes, radius=1610):\n    \n    venues_list=[]\n    for city, county, city_latitude, city_longitude in zip(cities, counties, city_latitudes,city_longitudes):\n        ##print(name)\n            \n        # create the API request URL\n        url = 'https://api.foursquare.com/v2/venues/explore?&client_id={}&client_secret={}&v={}&ll={},{}&radius={}&limit={}'.format(\n            CLIENT_ID, \n            CLIENT_SECRET, \n            VERSION, \n            city_latitude, \n            city_longitude, \n            radius, \n            LIMIT)\n            \n        # make the GET request\n        results = requests.get(url).json()[\"response\"]['groups'][0]['items']\n        \n        # return only relevant information for each nearby venue\n        venues_list.append([(\n            city,\n            county,\n            city_latitude, \n            city_longitude, \n            v['venue']['name'], \n            v['venue']['location']['lat'], \n            v['venue']['location']['lng'],  \n            v['venue']['categories'][0]['name']) for v in results])\n\n    nearby_venues = pd.DataFrame([item for venue_list in venues_list for item in venue_list])\n    nearby_venues.columns = ['City', 'County','City Latitude', 'City Longitude', \n                  'Venue', 'Venue Latitude', 'Venue Longitude', 'Venue Category']\n    \n    return(nearby_venues)"
        },
        {
            "cell_type": "code",
            "execution_count": 58,
            "metadata": {
                "tags": [
                    "remove-input"
                ]
            },
            "outputs": [
                {
                    "data": {
                        "text/html": "<div>\n<style scoped>\n    .dataframe tbody tr th:only-of-type {\n        vertical-align: middle;\n    }\n\n    .dataframe tbody tr th {\n        vertical-align: top;\n    }\n\n    .dataframe thead th {\n        text-align: right;\n    }\n</style>\n<table border=\"1\" class=\"dataframe\">\n  <thead>\n    <tr style=\"text-align: right;\">\n      <th></th>\n      <th>City</th>\n      <th>County</th>\n      <th>City Latitude</th>\n      <th>City Longitude</th>\n      <th>Venue</th>\n      <th>Venue Latitude</th>\n      <th>Venue Longitude</th>\n      <th>Venue Category</th>\n    </tr>\n  </thead>\n  <tbody>\n    <tr>\n      <th>0</th>\n      <td>Armada</td>\n      <td>Macomb</td>\n      <td>42.844196</td>\n      <td>-82.884372</td>\n      <td>Papa's</td>\n      <td>42.844017</td>\n      <td>-82.884001</td>\n      <td>Restaurant</td>\n    </tr>\n    <tr>\n      <th>1</th>\n      <td>Armada</td>\n      <td>Macomb</td>\n      <td>42.844196</td>\n      <td>-82.884372</td>\n      <td>SUBWAY</td>\n      <td>42.844247</td>\n      <td>-82.884455</td>\n      <td>Sandwich Place</td>\n    </tr>\n    <tr>\n      <th>2</th>\n      <td>Armada</td>\n      <td>Macomb</td>\n      <td>42.844196</td>\n      <td>-82.884372</td>\n      <td>Achatz Handmade Pie Co.</td>\n      <td>42.854847</td>\n      <td>-82.884699</td>\n      <td>Bakery</td>\n    </tr>\n    <tr>\n      <th>3</th>\n      <td>Armada</td>\n      <td>Macomb</td>\n      <td>42.844196</td>\n      <td>-82.884372</td>\n      <td>Tivoli's Pizza</td>\n      <td>42.844254</td>\n      <td>-82.883684</td>\n      <td>Pizza Place</td>\n    </tr>\n    <tr>\n      <th>4</th>\n      <td>Armada</td>\n      <td>Macomb</td>\n      <td>42.844196</td>\n      <td>-82.884372</td>\n      <td>Chap's Food &amp; Spirits</td>\n      <td>42.844008</td>\n      <td>-82.883720</td>\n      <td>Restaurant</td>\n    </tr>\n    <tr>\n      <th>...</th>\n      <td>...</td>\n      <td>...</td>\n      <td>...</td>\n      <td>...</td>\n      <td>...</td>\n      <td>...</td>\n      <td>...</td>\n      <td>...</td>\n    </tr>\n    <tr>\n      <th>2720</th>\n      <td>Wyandotte</td>\n      <td>Wayne</td>\n      <td>42.200662</td>\n      <td>-83.151016</td>\n      <td>Henry's On The River</td>\n      <td>42.209764</td>\n      <td>-83.147036</td>\n      <td>Caf\u00e9</td>\n    </tr>\n    <tr>\n      <th>2721</th>\n      <td>Wyandotte</td>\n      <td>Wayne</td>\n      <td>42.200662</td>\n      <td>-83.151016</td>\n      <td>Vinewood Mexican Bakery</td>\n      <td>42.207565</td>\n      <td>-83.164956</td>\n      <td>Bakery</td>\n    </tr>\n    <tr>\n      <th>2722</th>\n      <td>Wyandotte</td>\n      <td>Wayne</td>\n      <td>42.200662</td>\n      <td>-83.151016</td>\n      <td>Kielbasa Joe\u2019s</td>\n      <td>42.204145</td>\n      <td>-83.167687</td>\n      <td>Butcher</td>\n    </tr>\n    <tr>\n      <th>2723</th>\n      <td>Wyandotte</td>\n      <td>Wayne</td>\n      <td>42.200662</td>\n      <td>-83.151016</td>\n      <td>The Pasta House</td>\n      <td>42.207219</td>\n      <td>-83.167102</td>\n      <td>Italian Restaurant</td>\n    </tr>\n    <tr>\n      <th>2724</th>\n      <td>Wyandotte</td>\n      <td>Wayne</td>\n      <td>42.200662</td>\n      <td>-83.151016</td>\n      <td>Great Technique Dance Academy</td>\n      <td>42.199994</td>\n      <td>-83.169974</td>\n      <td>Dance Studio</td>\n    </tr>\n  </tbody>\n</table>\n<p>2725 rows \u00d7 8 columns</p>\n</div>",
                        "text/plain": "           City  County  City Latitude  City Longitude  \\\n0        Armada  Macomb      42.844196      -82.884372   \n1        Armada  Macomb      42.844196      -82.884372   \n2        Armada  Macomb      42.844196      -82.884372   \n3        Armada  Macomb      42.844196      -82.884372   \n4        Armada  Macomb      42.844196      -82.884372   \n...         ...     ...            ...             ...   \n2720  Wyandotte   Wayne      42.200662      -83.151016   \n2721  Wyandotte   Wayne      42.200662      -83.151016   \n2722  Wyandotte   Wayne      42.200662      -83.151016   \n2723  Wyandotte   Wayne      42.200662      -83.151016   \n2724  Wyandotte   Wayne      42.200662      -83.151016   \n\n                              Venue  Venue Latitude  Venue Longitude  \\\n0                            Papa's       42.844017       -82.884001   \n1                            SUBWAY       42.844247       -82.884455   \n2           Achatz Handmade Pie Co.       42.854847       -82.884699   \n3                    Tivoli's Pizza       42.844254       -82.883684   \n4             Chap's Food & Spirits       42.844008       -82.883720   \n...                             ...             ...              ...   \n2720           Henry's On The River       42.209764       -83.147036   \n2721        Vinewood Mexican Bakery       42.207565       -83.164956   \n2722                 Kielbasa Joe\u2019s       42.204145       -83.167687   \n2723                The Pasta House       42.207219       -83.167102   \n2724  Great Technique Dance Academy       42.199994       -83.169974   \n\n          Venue Category  \n0             Restaurant  \n1         Sandwich Place  \n2                 Bakery  \n3            Pizza Place  \n4             Restaurant  \n...                  ...  \n2720                Caf\u00e9  \n2721              Bakery  \n2722             Butcher  \n2723  Italian Restaurant  \n2724        Dance Studio  \n\n[2725 rows x 8 columns]"
                    },
                    "execution_count": 58,
                    "metadata": {},
                    "output_type": "execute_result"
                }
            ],
            "source": "dma_venues = getNearbyVenues(cities=dma_dataframe['City'],\n                             counties=dma_dataframe['County'],\n                             city_latitudes=dma_dataframe['City Latitude'],\n                             city_longitudes=dma_dataframe['City Longitude']\n                            )\ndma_venues"
        },
        {
            "cell_type": "code",
            "execution_count": 59,
            "metadata": {
                "tags": [
                    "remove-cell"
                ]
            },
            "outputs": [
                {
                    "data": {
                        "text/plain": "['Restaurant',\n 'Sandwich Place',\n 'Bakery',\n 'Pizza Place',\n 'Bookstore',\n 'Food',\n 'Bar',\n 'Park',\n 'Trail',\n 'Hardware Store',\n 'American Restaurant',\n 'Post Office',\n 'Dessert Shop',\n 'Butcher',\n 'Italian Restaurant',\n 'Pharmacy',\n 'Arts & Crafts Store',\n 'Chinese Restaurant',\n 'Salon / Barbershop',\n 'Rental Car Location',\n 'Thrift / Vintage Store',\n 'Diner',\n 'Indian Restaurant',\n 'Deli / Bodega',\n 'Ice Cream Shop',\n 'Auto Dealership',\n 'Coffee Shop',\n 'Fast Food Restaurant',\n 'Convenience Store',\n 'Optical Shop',\n 'Discount Store',\n 'Donut Shop',\n 'Medical Supply Store',\n 'Grocery Store',\n 'Gas Station',\n 'Thai Restaurant',\n 'Intersection',\n 'Automotive Shop',\n 'Eastern European Restaurant',\n 'Shopping Mall',\n 'Electronics Store',\n 'Gym',\n 'Board Shop',\n 'Liquor Store',\n 'Marijuana Dispensary',\n 'Snack Place',\n 'Golf Course',\n 'Cosmetics Shop',\n 'Food Truck',\n 'Home Service',\n 'Flower Shop',\n 'Event Service',\n 'Record Shop',\n 'Burger Joint',\n 'Wings Joint',\n 'Pet Store',\n 'Event Space',\n 'Juice Bar',\n 'Shipping Store',\n 'Middle Eastern Restaurant',\n 'Irish Pub',\n 'Sports Bar',\n 'Gym / Fitness Center',\n 'Karaoke Bar',\n 'Video Game Store',\n 'Mobile Phone Shop',\n 'Yoga Studio',\n 'Big Box Store',\n 'Bank',\n 'Smoke Shop',\n 'Playground',\n 'Mexican Restaurant',\n 'Comic Shop',\n 'Music Store',\n 'Fried Chicken Joint',\n 'Bowling Alley',\n 'Soccer Stadium',\n 'Theater',\n 'Hockey Arena',\n 'Pool',\n 'Athletics & Sports',\n 'Tennis Court',\n 'Construction & Landscaping',\n 'Asian Restaurant',\n 'Escape Room',\n 'Beach',\n 'Breakfast Spot',\n 'Hobby Shop',\n 'Soccer Field',\n 'Sporting Goods Shop',\n 'Boat Launch',\n 'BBQ Joint',\n 'Cajun / Creole Restaurant',\n 'Pub',\n 'Hot Dog Joint',\n 'Farmers Market',\n 'Train Station',\n 'Lawyer',\n 'Parking',\n 'River',\n 'Gluten-free Restaurant',\n 'Dive Bar',\n 'Wine Bar',\n 'Spa',\n 'Frozen Yogurt Shop',\n 'Pier',\n 'Caf\u00e9',\n 'Sushi Restaurant',\n 'High School',\n 'Greek Restaurant',\n 'Smoothie Shop',\n 'Video Store',\n 'Dry Cleaner',\n 'Dance Studio',\n 'Baseball Field',\n 'Bay',\n 'Food & Drink Shop',\n 'Pilates Studio',\n 'Mediterranean Restaurant',\n 'Department Store',\n 'Steakhouse',\n 'Nightclub',\n 'Auto Workshop',\n 'Paper / Office Supplies Store',\n 'Gourmet Shop',\n 'Casino',\n 'Disc Golf',\n 'Martial Arts School',\n 'Football Stadium',\n 'Brewery',\n 'Clothing Store',\n 'Lounge',\n 'Basketball Stadium',\n 'Seafood Restaurant',\n 'Bistro',\n 'Cupcake Shop',\n 'Science Museum',\n 'Hotel',\n 'Historic Site',\n 'Bagel Shop',\n 'Financial or Legal Service',\n 'Wine Shop',\n 'Insurance Office',\n 'Field',\n 'Boutique',\n 'Gift Shop',\n 'Cocktail Bar',\n 'Shoe Store',\n 'Nail Salon',\n 'Vietnamese Restaurant',\n 'Candy Store',\n 'Recreation Center',\n 'Jewelry Store',\n 'Recording Studio',\n 'Lake',\n 'Bike Trail',\n 'State / Provincial Park',\n 'Massage Studio',\n 'Beer Garden',\n 'Library',\n 'Flea Market',\n 'Gastropub',\n 'Taco Place',\n 'Tea Room',\n 'Bubble Tea Shop',\n 'Meadery',\n 'Comedy Club',\n 'Kids Store',\n 'Beer Store',\n 'Vegetarian / Vegan Restaurant',\n 'New American Restaurant',\n 'French Restaurant',\n 'Motorcycle Shop',\n 'Cheese Shop',\n 'Curling Ice',\n 'Miscellaneous Shop',\n 'Pop-Up Shop',\n 'Music Venue',\n 'Skating Rink',\n 'Travel & Transport',\n 'Zoo Exhibit',\n 'Theme Park Ride / Attraction',\n 'Fountain',\n 'Zoo',\n 'Gym Pool',\n 'Scenic Lookout',\n 'African Restaurant',\n 'Exhibit',\n 'Gun Shop',\n 'Theme Park',\n 'Harbor / Marina',\n 'Supermarket',\n 'Supplement Shop',\n 'Car Wash',\n 'Beer Bar',\n 'Moving Target',\n 'Storage Facility',\n 'Piano Bar',\n 'Airport',\n 'Motorsports Shop',\n 'Korean Restaurant',\n 'Noodle House',\n 'Japanese Restaurant',\n 'Mongolian Restaurant',\n 'Fabric Shop',\n 'Furniture / Home Store',\n 'Lingerie Store',\n 'Movie Theater',\n 'Chocolate Shop',\n 'Soup Place',\n 'Arcade',\n 'Toy / Game Store',\n 'Plaza',\n \"Women's Store\",\n 'Kitchen Supply Store',\n 'Racetrack',\n 'Ethiopian Restaurant',\n 'Gay Bar',\n 'Theme Restaurant',\n 'Business Service',\n 'Indie Movie Theater',\n 'Art Gallery',\n 'Leather Goods Store',\n 'Cycle Studio',\n 'Whisky Bar',\n 'Fish Market',\n 'Tailor Shop',\n 'Speakeasy',\n 'Bridal Shop',\n 'Polish Restaurant',\n \"Men's Store\",\n 'Hotel Bar',\n 'Tanning Salon',\n 'Eye Doctor',\n 'Salad Place',\n 'Market',\n 'Shoe Repair',\n 'Monument / Landmark',\n 'Multiplex',\n 'Museum',\n 'Yemeni Restaurant',\n 'Strip Club',\n 'Latin American Restaurant',\n 'History Museum',\n 'Falafel Restaurant',\n 'Hookah Bar',\n 'Fruit & Vegetable Store',\n \"Veterans' Organization\",\n 'Building',\n 'Cuban Restaurant',\n 'Waterfront',\n 'Outdoor Sculpture',\n 'Opera House',\n 'Concert Hall',\n 'Baseball Stadium',\n 'Jazz Club',\n 'Used Bookstore',\n 'Bike Shop',\n 'Performing Arts Venue',\n 'National Park',\n 'Bus Station',\n 'Rental Service',\n 'Dairy Store',\n 'Laundromat',\n 'Farm',\n 'Garden',\n 'Church',\n 'Rock Club',\n 'Pet Service',\n 'Fish & Chips Shop',\n 'Tex-Mex Restaurant',\n 'Auto Garage',\n 'Public Art',\n 'Skate Park',\n 'Winery',\n 'Other Great Outdoors',\n 'Volleyball Court',\n 'Airport Service',\n 'Hungarian Restaurant',\n 'Gymnastics Gym',\n 'Warehouse Store',\n 'Adult Boutique',\n 'Hotel Pool',\n 'Buffet',\n 'Weight Loss Center',\n 'Health Food Store',\n 'City Hall']"
                    },
                    "execution_count": 59,
                    "metadata": {},
                    "output_type": "execute_result"
                }
            ],
            "source": "unique_venue_categories=list(dma_venues['Venue Category'].unique())\nunique_venue_categories"
        },
        {
            "cell_type": "markdown",
            "metadata": {},
            "source": "After getting the dataframe, I realized there were 287 Venue Categories total, with many not pertinent to restaurants. So I then went through all the unique Venue Categories and only kept the ones that pertained to a restaurant. I made my own discretion as to what to consider to be restaurants. The filtered restaurants data is shown below."
        },
        {
            "cell_type": "code",
            "execution_count": 60,
            "metadata": {
                "tags": [
                    "remove-cell"
                ]
            },
            "outputs": [
                {
                    "name": "stdout",
                    "output_type": "stream",
                    "text": "Category:  Diner  has  54  results.\nCategory:  Restaurant  has  30  results.\nCategory:  Fried Chicken Joint  has  22  results.\nCategory:  Asian Restaurant  has  9  results.\nCategory:  Indian Restaurant  has  3  results.\nCategory:  Salad Place  has  3  results.\nCategory:  Eastern European Restaurant  has  2  results.\nCategory:  Noodle House  has  2  results.\nCategory:  Wings Joint  has  9  results.\nCategory:  Japanese Restaurant  has  5  results.\nCategory:  Sports Bar  has  17  results.\nCategory:  Mexican Restaurant  has  44  results.\nCategory:  Ethiopian Restaurant  has  1  results.\nCategory:  Tex-Mex Restaurant  has  2  results.\nCategory:  Fast Food Restaurant  has  82  results.\nCategory:  Pub  has  14  results.\nCategory:  Mediterranean Restaurant  has  15  results.\nCategory:  Deli / Bodega  has  19  results.\nCategory:  Bistro  has  4  results.\nCategory:  Breakfast Spot  has  19  results.\nCategory:  Steakhouse  has  10  results.\nCategory:  Theme Restaurant  has  1  results.\nCategory:  Yemeni Restaurant  has  1  results.\nCategory:  Middle Eastern Restaurant  has  20  results.\nCategory:  Hungarian Restaurant  has  1  results.\nCategory:  Buffet  has  1  results.\nCategory:  Burger Joint  has  24  results.\nCategory:  BBQ Joint  has  16  results.\nCategory:  Cuban Restaurant  has  1  results.\nCategory:  Caf\u00e9  has  20  results.\nCategory:  Beer Garden  has  3  results.\nCategory:  Sushi Restaurant  has  19  results.\nCategory:  Beer Bar  has  3  results.\nCategory:  Cajun / Creole Restaurant  has  3  results.\nCategory:  Korean Restaurant  has  1  results.\nCategory:  Polish Restaurant  has  3  results.\nCategory:  Fish & Chips Shop  has  1  results.\nCategory:  Italian Restaurant  has  44  results.\nCategory:  Food  has  9  results.\nCategory:  Food Truck  has  6  results.\nCategory:  Seafood Restaurant  has  16  results.\nCategory:  Gastropub  has  7  results.\nCategory:  Bar  has  87  results.\nCategory:  Whisky Bar  has  6  results.\nCategory:  Irish Pub  has  2  results.\nCategory:  American Restaurant  has  89  results.\nCategory:  Falafel Restaurant  has  1  results.\nCategory:  Greek Restaurant  has  12  results.\nCategory:  Vietnamese Restaurant  has  2  results.\nCategory:  Mongolian Restaurant  has  1  results.\nCategory:  Thai Restaurant  has  30  results.\nCategory:  Cocktail Bar  has  11  results.\nCategory:  Chinese Restaurant  has  35  results.\nCategory:  Soup Place  has  1  results.\nCategory:  Latin American Restaurant  has  1  results.\nCategory:  Hot Dog Joint  has  9  results.\nCategory:  French Restaurant  has  2  results.\nCategory:  Gluten-free Restaurant  has  2  results.\nCategory:  Taco Place  has  9  results.\nCategory:  Sandwich Place  has  98  results.\nCategory:  Pizza Place  has  144  results.\n"
                }
            ],
            "source": "restaurant_venue_categories = set(['Restaurant','Sandwich Place','Pizza Place','Food','Bar','American Restaurant','Italian Restaurant','Chinese Restaurant','Diner','Indian Restaurant',\n                                  'Deli / Bodega','Fast Food Restaurant','Thai Restaurant','Eastern European Restaurant','Food Truck','Burger Joint','Wings Joint','Middle Eastern Restaurant',\n                                  'Irish Pub','Sports Bar','Mexican Restaurant','Fried Chicken Joint','Asian Restaurant','Breakfast Spot','BBQ Joint', 'Cajun / Creole Restaurant','Pub',\n                                  'Hot Dog Joint','Gluten-free Restaurant','Caf\u00e9','Sushi Restaurant','Greek Restaurant','Mediterranean Restaurant','Steakhouse','Seafood Restaurant','Bistro',\n                                  'Cocktail Bar','Vietnamese Restaurant','Beer Garden','Gastropub','Taco Place','French Restaurant','Beer Bar','Korean Restaurant','Noodle House',\n                                  'Japanese Restaurant','Mongolian Restaurant','Soup Place','Ethiopian Restaurant','Theme Restaurant','Whisky Bar','Polish Restaurant','Salad Place',\n                                  'Yemeni Restaurant','Latin American Restaurant','Falafel Restaurant','Cuban Restaurant','Fish & Chips Shop','Tex-Mex Restaurant','Hungarian Restaurant',\n                                  'Buffet'])\nfor category in restaurant_venue_categories:\n    total = (dma_venues['Venue Category']==category).sum()\n    print(\"Category: \", category,\" has \",total,\" results.\")"
        },
        {
            "cell_type": "code",
            "execution_count": 61,
            "metadata": {
                "tags": [
                    "remove-cell"
                ]
            },
            "outputs": [
                {
                    "data": {
                        "text/plain": "1068"
                    },
                    "execution_count": 61,
                    "metadata": {},
                    "output_type": "execute_result"
                }
            ],
            "source": "dma_restaurant_venues = dma_venues[dma_venues['Venue Category'].isin(restaurant_venue_categories)]\ndma_restaurant_venues.groupby(['County','Venue','Venue Latitude','Venue Longitude']).ngroups"
        },
        {
            "cell_type": "code",
            "execution_count": 62,
            "metadata": {
                "scrolled": false,
                "tags": [
                    "remove-output"
                ]
            },
            "outputs": [
                {
                    "data": {
                        "text/html": "<div>\n<style scoped>\n    .dataframe tbody tr th:only-of-type {\n        vertical-align: middle;\n    }\n\n    .dataframe tbody tr th {\n        vertical-align: top;\n    }\n\n    .dataframe thead th {\n        text-align: right;\n    }\n</style>\n<table border=\"1\" class=\"dataframe\">\n  <thead>\n    <tr style=\"text-align: right;\">\n      <th></th>\n      <th>City</th>\n      <th>County</th>\n      <th>City Latitude</th>\n      <th>City Longitude</th>\n      <th>Venue</th>\n      <th>Venue Latitude</th>\n      <th>Venue Longitude</th>\n      <th>Venue Category</th>\n    </tr>\n  </thead>\n  <tbody>\n    <tr>\n      <th>0</th>\n      <td>Armada</td>\n      <td>Macomb</td>\n      <td>42.844196</td>\n      <td>-82.884372</td>\n      <td>Papa's</td>\n      <td>42.844017</td>\n      <td>-82.884001</td>\n      <td>Restaurant</td>\n    </tr>\n    <tr>\n      <th>1</th>\n      <td>Armada</td>\n      <td>Macomb</td>\n      <td>42.844196</td>\n      <td>-82.884372</td>\n      <td>SUBWAY</td>\n      <td>42.844247</td>\n      <td>-82.884455</td>\n      <td>Sandwich Place</td>\n    </tr>\n    <tr>\n      <th>2</th>\n      <td>Armada</td>\n      <td>Macomb</td>\n      <td>42.844196</td>\n      <td>-82.884372</td>\n      <td>Tivoli's Pizza</td>\n      <td>42.844254</td>\n      <td>-82.883684</td>\n      <td>Pizza Place</td>\n    </tr>\n    <tr>\n      <th>3</th>\n      <td>Armada</td>\n      <td>Macomb</td>\n      <td>42.844196</td>\n      <td>-82.884372</td>\n      <td>Chap's Food &amp; Spirits</td>\n      <td>42.844008</td>\n      <td>-82.883720</td>\n      <td>Restaurant</td>\n    </tr>\n    <tr>\n      <th>4</th>\n      <td>Armada</td>\n      <td>Macomb</td>\n      <td>42.844196</td>\n      <td>-82.884372</td>\n      <td>Papa's of Armada Family Restaurant</td>\n      <td>42.843985</td>\n      <td>-82.883772</td>\n      <td>Food</td>\n    </tr>\n    <tr>\n      <th>...</th>\n      <td>...</td>\n      <td>...</td>\n      <td>...</td>\n      <td>...</td>\n      <td>...</td>\n      <td>...</td>\n      <td>...</td>\n      <td>...</td>\n    </tr>\n    <tr>\n      <th>1103</th>\n      <td>Wyandotte</td>\n      <td>Wayne</td>\n      <td>42.200662</td>\n      <td>-83.151016</td>\n      <td>Big Boy Restaurant</td>\n      <td>42.199199</td>\n      <td>-83.151626</td>\n      <td>American Restaurant</td>\n    </tr>\n    <tr>\n      <th>1104</th>\n      <td>Wyandotte</td>\n      <td>Wayne</td>\n      <td>42.200662</td>\n      <td>-83.151016</td>\n      <td>Brooklyn's</td>\n      <td>42.199880</td>\n      <td>-83.168524</td>\n      <td>Bar</td>\n    </tr>\n    <tr>\n      <th>1105</th>\n      <td>Wyandotte</td>\n      <td>Wayne</td>\n      <td>42.200662</td>\n      <td>-83.151016</td>\n      <td>Wendy\u2019s</td>\n      <td>42.198147</td>\n      <td>-83.152044</td>\n      <td>Fast Food Restaurant</td>\n    </tr>\n    <tr>\n      <th>1106</th>\n      <td>Wyandotte</td>\n      <td>Wayne</td>\n      <td>42.200662</td>\n      <td>-83.151016</td>\n      <td>Henry's On The River</td>\n      <td>42.209764</td>\n      <td>-83.147036</td>\n      <td>Caf\u00e9</td>\n    </tr>\n    <tr>\n      <th>1107</th>\n      <td>Wyandotte</td>\n      <td>Wayne</td>\n      <td>42.200662</td>\n      <td>-83.151016</td>\n      <td>The Pasta House</td>\n      <td>42.207219</td>\n      <td>-83.167102</td>\n      <td>Italian Restaurant</td>\n    </tr>\n  </tbody>\n</table>\n<p>1108 rows \u00d7 8 columns</p>\n</div>",
                        "text/plain": "           City  County  City Latitude  City Longitude  \\\n0        Armada  Macomb      42.844196      -82.884372   \n1        Armada  Macomb      42.844196      -82.884372   \n2        Armada  Macomb      42.844196      -82.884372   \n3        Armada  Macomb      42.844196      -82.884372   \n4        Armada  Macomb      42.844196      -82.884372   \n...         ...     ...            ...             ...   \n1103  Wyandotte   Wayne      42.200662      -83.151016   \n1104  Wyandotte   Wayne      42.200662      -83.151016   \n1105  Wyandotte   Wayne      42.200662      -83.151016   \n1106  Wyandotte   Wayne      42.200662      -83.151016   \n1107  Wyandotte   Wayne      42.200662      -83.151016   \n\n                                   Venue  Venue Latitude  Venue Longitude  \\\n0                                 Papa's       42.844017       -82.884001   \n1                                 SUBWAY       42.844247       -82.884455   \n2                         Tivoli's Pizza       42.844254       -82.883684   \n3                  Chap's Food & Spirits       42.844008       -82.883720   \n4     Papa's of Armada Family Restaurant       42.843985       -82.883772   \n...                                  ...             ...              ...   \n1103                  Big Boy Restaurant       42.199199       -83.151626   \n1104                          Brooklyn's       42.199880       -83.168524   \n1105                             Wendy\u2019s       42.198147       -83.152044   \n1106                Henry's On The River       42.209764       -83.147036   \n1107                     The Pasta House       42.207219       -83.167102   \n\n            Venue Category  \n0               Restaurant  \n1           Sandwich Place  \n2              Pizza Place  \n3               Restaurant  \n4                     Food  \n...                    ...  \n1103   American Restaurant  \n1104                   Bar  \n1105  Fast Food Restaurant  \n1106                  Caf\u00e9  \n1107    Italian Restaurant  \n\n[1108 rows x 8 columns]"
                    },
                    "execution_count": 62,
                    "metadata": {},
                    "output_type": "execute_result"
                }
            ],
            "source": "dma_restaurant_venues.reset_index(drop=True,inplace=True)\ndma_restaurant_venues"
        },
        {
            "cell_type": "markdown",
            "metadata": {},
            "source": "Note that it is possible that the same restaurant could be obtained from two different API calls of neighborhoods of cities. However, when processing later we can ignore duplicates as necessary. It turns out that this situation happens around 50 times in our total of 1108 restaurants found in the DMA.\n\nIt also is possible that there may be restaurants that indeed represent the same restaurant but aren't identical in the dataframe. Because there isn't an obvious way to determine if two restaurants are identical from the data, we will keep the data as is.\n\nWe have all the relevant data needed now to proceed forward in our project. Any additional manipulations and presentations of data will be specified in future sections, but will all originate from the three types of data presented here."
        },
        {
            "cell_type": "markdown",
            "metadata": {},
            "source": "## Methodology"
        },
        {
            "cell_type": "code",
            "execution_count": null,
            "metadata": {},
            "outputs": [],
            "source": ""
        },
        {
            "cell_type": "markdown",
            "metadata": {},
            "source": "## Results"
        },
        {
            "cell_type": "code",
            "execution_count": null,
            "metadata": {},
            "outputs": [],
            "source": ""
        },
        {
            "cell_type": "markdown",
            "metadata": {},
            "source": "## Discussion"
        },
        {
            "cell_type": "code",
            "execution_count": null,
            "metadata": {},
            "outputs": [],
            "source": ""
        },
        {
            "cell_type": "markdown",
            "metadata": {},
            "source": "## Conclusion"
        },
        {
            "cell_type": "code",
            "execution_count": null,
            "metadata": {},
            "outputs": [],
            "source": ""
        }
    ],
    "metadata": {
        "kernelspec": {
            "display_name": "Python 3.7",
            "language": "python",
            "name": "python3"
        },
        "language_info": {
            "codemirror_mode": {
                "name": "ipython",
                "version": 3
            },
            "file_extension": ".py",
            "mimetype": "text/x-python",
            "name": "python",
            "nbconvert_exporter": "python",
            "pygments_lexer": "ipython3",
            "version": "3.7.9"
        }
    },
    "nbformat": 4,
    "nbformat_minor": 1
}